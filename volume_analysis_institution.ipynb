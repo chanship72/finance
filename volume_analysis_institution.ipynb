{
 "cells": [
  {
   "cell_type": "code",
   "execution_count": 4,
   "metadata": {},
   "outputs": [
    {
     "name": "stdout",
     "output_type": "stream",
     "text": [
      "The autoreload extension is already loaded. To reload it, use:\n",
      "  %reload_ext autoreload\n"
     ]
    }
   ],
   "source": [
    "%load_ext autoreload\n",
    "%autoreload\n",
    "import time, datetime\n",
    "import os\n",
    "import pandas as pd\n",
    "\n",
    "from utils import get_volumeKospiHistory, get_volumeKosdaqHistory, get_priceHistory\n",
    "\n",
    "pd.set_option('display.max_colwidth', -1)"
   ]
  },
  {
   "cell_type": "code",
   "execution_count": 5,
   "metadata": {},
   "outputs": [],
   "source": [
    "path = \"./Kospi/\"\n",
    "file_list = os.listdir(path)\n",
    "kospi_file_list_csv = [file for file in file_list if file.endswith(\".csv\")]\n",
    "# for v in kospi_file_list_csv:\n",
    "#     print(v[:6] + v[7:-4])"
   ]
  },
  {
   "cell_type": "code",
   "execution_count": 6,
   "metadata": {},
   "outputs": [],
   "source": [
    "path = \"./Kosdaq/\"\n",
    "file_list = os.listdir(path)\n",
    "kosdaq_file_list_csv = [file for file in file_list if file.endswith(\".csv\")]\n",
    "# for v in kosdaq_file_list_csv:\n",
    "#     print(v[:6] + v[7:-4])"
   ]
  },
  {
   "cell_type": "code",
   "execution_count": 7,
   "metadata": {},
   "outputs": [],
   "source": [
    "code = \"005930\"\n",
    "name = \"삼성전자\"\n",
    "start_date = '2010-01-01'\n",
    "end_date = '2019-12-31'\n",
    "\n",
    "def getKospiMergedTab(code, name, start_date, end_date):\n",
    "    vol = get_volumeKospiHistory(code, name, start_date, end_date).fillna(0)\n",
    "    p = get_priceHistory(code,name, start_date, end_date).fillna(0)\n",
    "    df = pd.concat([vol, p], axis=1, join='inner')\n",
    "    \n",
    "    return df\n",
    "\n",
    "df008500merged = getKospiMergedTab(code, name, start_date, end_date)"
   ]
  },
  {
   "cell_type": "code",
   "execution_count": 8,
   "metadata": {},
   "outputs": [],
   "source": [
    "def accumConsecutiveCount(df):\n",
    "    df['accum'] = (df['NetBuyAmount_Inst'] > 0).astype(int)\n",
    "    last_index = df.index[0]\n",
    "    init_index = last_index + pd.DateOffset(1)\n",
    "    for index, row in df[init_index:].iterrows():\n",
    "        if df.loc[index].accum > 0:\n",
    "            df.loc[index,'accum'] = df.loc[last_index, 'accum'] + 1\n",
    "        last_index = index\n",
    "    return df\n",
    "\n",
    "df008500 = accumConsecutiveCount(df008500merged)"
   ]
  },
  {
   "cell_type": "code",
   "execution_count": 12,
   "metadata": {},
   "outputs": [],
   "source": [
    "def computeRevenue(df):\n",
    "    output_df = pd.DataFrame(columns=['매수일', '6th', '7th','8th','9th','10th','11th','12th','13th','14th','15th'])\n",
    "    for i, _ in df[df['accum']>=5].iterrows():\n",
    "        next_day = df.index.get_loc(i) + 1\n",
    "        if (next_day+10) < df.shape[0]:                \n",
    "            tmp_v = list()\n",
    "            base_day = df.iloc[next_day-6].at['date'][0]\n",
    "            tmp_v.append(base_day)\n",
    "            base_price = df.iloc[next_day]['Open']\n",
    "            for _ in range(10):\n",
    "                close_price = df.iloc[next_day]['Close']\n",
    "                revenue = ((close_price - base_price) * 100) / base_price\n",
    "                tmp_v.append(revenue)\n",
    "                next_day = next_day + 1\n",
    "            tmp_series = pd.Series(tmp_v, index = output_df.columns)\n",
    "            output_df = output_df.append(tmp_series, ignore_index=True)\n",
    "    return output_df\n",
    "df = computeRevenue(df008500)\n",
    "\n",
    "file_path = './output/raw_' + code + \"_\" + name + \".csv\"\n",
    "df.to_csv(file_path, index = False, header=True)"
   ]
  },
  {
   "cell_type": "code",
   "execution_count": 13,
   "metadata": {},
   "outputs": [],
   "source": [
    "def getSummary(code, name, df):\n",
    "    output_df = pd.DataFrame(columns=['종목명','종목코드','항목', '6일째 수익률', '7일째 수익률','8일째 수익률','9일째 수익률','10일째 수익률','11일째 수익률','12일째 수익률','13일째 수익률','14일째 수익률','15일째 수익률'])\n",
    "    tmpList = list()\n",
    "    tmpList.append(code)\n",
    "    tmpList.append(name)\n",
    "    tmpList.append('MAX')\n",
    "    for i in range(6, 16, 1):\n",
    "        df_min = df[str(i)+'th'].max()\n",
    "        tmpList.append(df_min)\n",
    "    tmp_series = pd.Series(tmpList, index = output_df.columns)\n",
    "    output_df = output_df.append(tmp_series, ignore_index=True)\n",
    "\n",
    "    tmpList = list()\n",
    "    tmpList.append(code)\n",
    "    tmpList.append(name)\n",
    "    tmpList.append('MIN')\n",
    "    for i in range(6, 16, 1):\n",
    "        df_max = df[str(i)+'th'].min()\n",
    "        tmpList.append(df_max)\n",
    "    tmp_series = pd.Series(tmpList, index = output_df.columns)\n",
    "    output_df = output_df.append(tmp_series, ignore_index=True)\n",
    "\n",
    "    tmpList = list()\n",
    "    tmpList.append(code)\n",
    "    tmpList.append(name)\n",
    "    tmpList.append('Mean')\n",
    "    for i in range(6, 16, 1):\n",
    "        df_mean = df[str(i)+'th'].mean()\n",
    "        tmpList.append(df_mean)\n",
    "    tmp_series = pd.Series(tmpList, index = output_df.columns)\n",
    "    output_df = output_df.append(tmp_series, ignore_index=True)\n",
    "\n",
    "    tmpList = list()\n",
    "    tmpList.append(code)\n",
    "    tmpList.append(name)\n",
    "    tmpList.append('Median')\n",
    "    for i in range(6, 16, 1):\n",
    "        df_median = df[str(i)+'th'].median()\n",
    "        tmpList.append(df_median)\n",
    "    tmp_series = pd.Series(tmpList, index = output_df.columns)\n",
    "    output_df = output_df.append(tmp_series, ignore_index=True)\n",
    "\n",
    "    tmpList = list()\n",
    "    tmpList.append(code)\n",
    "    tmpList.append(name)\n",
    "    tmpList.append('Probability')\n",
    "    for i in range(6, 16, 1):\n",
    "        df_prob = df[df[str(i)+'th']>0].shape[0]/df.shape[0]\n",
    "        tmpList.append(df_prob)\n",
    "    tmp_series = pd.Series(tmpList, index = output_df.columns)\n",
    "    output_df = output_df.append(tmp_series, ignore_index=True)\n",
    "\n",
    "    return output_df\n",
    "\n",
    "output_df = getSummary(code, name, df)\n",
    "file_path = './output/summary_' + str(code) + \"_\" + name + \".csv\"\n",
    "output_df.to_csv(file_path, index = False, header=True)"
   ]
  },
  {
   "cell_type": "code",
   "execution_count": 8,
   "metadata": {},
   "outputs": [],
   "source": []
  },
  {
   "cell_type": "code",
   "execution_count": null,
   "metadata": {},
   "outputs": [],
   "source": []
  }
 ],
 "metadata": {
  "kernelspec": {
   "display_name": "Python 3",
   "language": "python",
   "name": "python3"
  },
  "language_info": {
   "codemirror_mode": {
    "name": "ipython",
    "version": 3
   },
   "file_extension": ".py",
   "mimetype": "text/x-python",
   "name": "python",
   "nbconvert_exporter": "python",
   "pygments_lexer": "ipython3",
   "version": "3.7.4"
  }
 },
 "nbformat": 4,
 "nbformat_minor": 4
}
